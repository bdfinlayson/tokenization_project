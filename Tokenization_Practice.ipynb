{
 "cells": [
  {
   "cell_type": "markdown",
   "id": "0a993410",
   "metadata": {
    "pycharm": {
     "name": "#%% md\n"
    }
   },
   "source": [
    "## Tokenization Practice and Simple Document Similarity\n",
    "\n",
    "For this notebook, you have been provided the top 50 most downloaded books from Project Gutenberg over the last 90 days as text files."
   ]
  },
  {
   "cell_type": "code",
   "execution_count": 67,
   "id": "41bc3641",
   "metadata": {
    "pycharm": {
     "name": "#%%\n"
    }
   },
   "outputs": [],
   "source": [
    "import re\n",
    "import glob\n",
    "from tqdm.notebook import tqdm\n",
    "import pandas as pd\n",
    "import numpy as np\n",
    "from nltk import sent_tokenize, word_tokenize, regexp_tokenize\n",
    "from nltk.corpus import stopwords\n",
    "\n",
    "from collections import Counter"
   ]
  },
  {
   "cell_type": "markdown",
   "id": "d0b7bfc0",
   "metadata": {
    "pycharm": {
     "name": "#%% md\n"
    }
   },
   "source": [
    "Given a filepath, you can open the file and use the `read` method to extract the contents as a string.\n",
    "\n",
    "For example, if we want to import the full text of War and Peace, we can do that using the following block of code."
   ]
  },
  {
   "cell_type": "code",
   "execution_count": 68,
   "id": "35e9db29",
   "metadata": {
    "pycharm": {
     "name": "#%%\n"
    }
   },
   "outputs": [],
   "source": [
    "filepath = 'books/War and Peace by graf Leo Tolstoy.txt'\n",
    "\n",
    "with open(filepath) as fi:\n",
    "    book = fi.read()"
   ]
  },
  {
   "cell_type": "markdown",
   "id": "0fa5918c",
   "metadata": {
    "pycharm": {
     "name": "#%% md\n"
    }
   },
   "source": [
    "You'll notice that there is some metadata at the top of the file and at the bottom of the file."
   ]
  },
  {
   "cell_type": "code",
   "execution_count": 69,
   "id": "8dce1e55",
   "metadata": {
    "pycharm": {
     "name": "#%%\n"
    }
   },
   "outputs": [
    {
     "data": {
      "text/plain": "'\\ufeffThe Project Gutenberg eBook of War and Peace, by Leo Tolstoy\\n\\nThis eBook is for the use of anyone anywhere in the United States and\\nmost other parts of the world at no cost and with almost no restrictions\\nwhatsoever. You may copy it, give it away or re-use it under the terms\\nof the Project Gutenberg License included with this eBook or online at\\nwww.gutenberg.org. If you are not located in the United States, you\\nwill have to check the laws of the country where you are located before\\nusing this eBook.\\n\\nTitle: War and Peace\\n\\nAuthor: Leo Tolstoy\\n\\nTranslators: Louise and Aylmer Maude\\n\\nRelease Date: April, 2001 [eBook #2600]\\n[Most recently updated: January 21, 2019]\\n\\nLanguage: English\\n\\nCharacter set encoding: UTF-8\\n\\nProduced by: An Anonymous Volunteer and David Widger\\n\\n*** START OF THE PROJECT GUTENBERG EBOOK WAR AND PEACE ***\\n\\n\\n\\n\\nWAR AND PEACE\\n\\n\\nBy Leo Tolstoy/Tolstoi\\n\\n\\n    Contents\\n\\n    BOOK ONE: 1805\\n\\n    CHAPTER I\\n\\n    CHAPTER II\\n\\n    CHAPTER III\\n\\n    CHAPTER IV\\n\\n    CHAPTER V\\n\\n    CHAP'"
     },
     "execution_count": 69,
     "metadata": {},
     "output_type": "execute_result"
    }
   ],
   "source": [
    "book[:1000]"
   ]
  },
  {
   "cell_type": "code",
   "execution_count": 70,
   "id": "5f21757c",
   "metadata": {
    "pycharm": {
     "name": "#%%\n"
    }
   },
   "outputs": [
    {
     "data": {
      "text/plain": "'scious.\\n\\n\\n\\n\\n*** END OF THE PROJECT GUTENBERG EBOOK WAR AND PEACE ***\\n\\nUpdated editions will replace the previous one--the old editions will\\nbe renamed.\\n\\nCreating the works from print editions not protected by U.S. copyright\\nlaw means that no one owns a United States copyright in these works,\\nso the Foundation (and you!) can copy and distribute it in the\\nUnited States without permission and without paying copyright\\nro'"
     },
     "execution_count": 70,
     "metadata": {},
     "output_type": "execute_result"
    }
   ],
   "source": [
    "book[-18420:-18000]"
   ]
  },
  {
   "cell_type": "markdown",
   "id": "699b5b54",
   "metadata": {
    "pycharm": {
     "name": "#%% md\n"
    }
   },
   "source": [
    "Write some code that will remove this text at the bottom and top of the string.\n",
    "\n",
    "**Hint:** You might want to make use of the [`re.search`](https://docs.python.org/3/library/re.html#re.search) function from the `re` library."
   ]
  },
  {
   "cell_type": "code",
   "execution_count": 71,
   "outputs": [],
   "source": [
    "import re"
   ],
   "metadata": {
    "collapsed": false,
    "pycharm": {
     "name": "#%%\n"
    }
   }
  },
  {
   "cell_type": "code",
   "execution_count": 72,
   "id": "44329b88",
   "metadata": {
    "pycharm": {
     "name": "#%%\n"
    }
   },
   "outputs": [],
   "source": [
    "def extract_main_body(path, text):\n",
    "    try:\n",
    "        top_cutoff = re.search(r'(\\*\\*\\*\\sSTART OF)\\s(THE|THIS)\\s(PROJECT GUTENBERG EBOOK\\s).+\\s(\\*)+', text).span()[1]\n",
    "        end_cutoff = re.search(r'(\\*\\*\\*\\sEND OF)\\s(THE|THIS)\\s(PROJECT GUTENBERG EBOOK\\s).+\\s(\\*)+', text).span()[0]\n",
    "        return text[top_cutoff:end_cutoff]\n",
    "    except AttributeError as error:\n",
    "        print(f'Unable to extract main body from: {path}')"
   ]
  },
  {
   "cell_type": "code",
   "execution_count": 73,
   "outputs": [],
   "source": [
    "def extract_title(path):\n",
    "    left_cutoff = re.search(r'(books\\/)', path).span()[1]\n",
    "    right_cutoff = re.search(r'(\\.txt)', path).span()[0]\n",
    "    return path[left_cutoff:right_cutoff]"
   ],
   "metadata": {
    "collapsed": false,
    "pycharm": {
     "name": "#%%\n"
    }
   }
  },
  {
   "cell_type": "code",
   "execution_count": 74,
   "outputs": [],
   "source": [
    "def tokenize_body(text):\n",
    "    return set(word_tokenize(text))"
   ],
   "metadata": {
    "collapsed": false,
    "pycharm": {
     "name": "#%%\n"
    }
   }
  },
  {
   "cell_type": "code",
   "execution_count": 87,
   "outputs": [],
   "source": [
    "def jaccard_similarity(tokens1, tokens2):\n",
    "    intersection = len(list(tokens1.intersection(tokens2)))\n",
    "    union = (len(tokens1)) + len(tokens2) - intersection\n",
    "    return round(float(intersection) / union, 4)"
   ],
   "metadata": {
    "collapsed": false,
    "pycharm": {
     "name": "#%%\n"
    }
   }
  },
  {
   "cell_type": "markdown",
   "id": "815edb06",
   "metadata": {
    "pycharm": {
     "name": "#%% md\n"
    }
   },
   "source": [
    "If we want to be able to scale up our analysis to multiple books, it would be nice to have a function to use repeatedly. Write a function called `import_book` which takes as an argument a filepath and returns the contents of that file as a string with the metadata at the top and bottom removed."
   ]
  },
  {
   "cell_type": "code",
   "execution_count": 75,
   "id": "597bdfb9",
   "metadata": {
    "pycharm": {
     "name": "#%%\n"
    }
   },
   "outputs": [],
   "source": [
    "def import_book(path):\n",
    "    with open(path) as file:\n",
    "        text = file.read()\n",
    "        text = extract_main_body(path, text)\n",
    "        tokens = tokenize_body(text)\n",
    "        title = extract_title(path)\n",
    "        return { title: { 'tokens': tokens } }"
   ]
  },
  {
   "cell_type": "markdown",
   "id": "2a47559e",
   "metadata": {
    "pycharm": {
     "name": "#%% md\n"
    }
   },
   "source": [
    "Now, let's utilize our function to import all of the books into a data structure of some kind.\n",
    "\n",
    "First, we need to be able to iterate through the list of filepaths. For this, we can use the `glob` function. This function takes as agument a pattern to match. Try it out."
   ]
  },
  {
   "cell_type": "markdown",
   "id": "5c7ad8b3",
   "metadata": {
    "pycharm": {
     "name": "#%% md\n"
    }
   },
   "source": [
    "It would be nice to save the title of each book without the extra pieces around it. Write code that will remove the \"books/\" from the front of the filepath and the \".txt\" from the end. That is, we want to extract just the \"Little Women by Louisa May Alcott\" from the current filepath."
   ]
  },
  {
   "cell_type": "markdown",
   "id": "f66c1bc8",
   "metadata": {
    "pycharm": {
     "name": "#%% md\n"
    }
   },
   "source": [
    "Now, combine together the function you created and the code that you just wrote to iterate through the filepaths for the books and save the contents of each book into a dictionary whose keys are equal to the cleaned up titles."
   ]
  },
  {
   "cell_type": "code",
   "execution_count": 76,
   "id": "285ac780",
   "metadata": {
    "pycharm": {
     "name": "#%%\n"
    }
   },
   "outputs": [],
   "source": [
    "library = {}\n",
    "\n",
    "for path in glob.glob('books/*.txt'):\n",
    "    library = {**library, **import_book(path)}\n"
   ]
  },
  {
   "cell_type": "markdown",
   "id": "6886f8d8",
   "metadata": {
    "pycharm": {
     "name": "#%% md\n"
    }
   },
   "source": [
    "Now let's write some code so that we can cluster our books. In order to cluster, we'll need to be able to compute a similarity or distance between books.\n",
    "\n",
    "A simple way to compute similarity of documents is the [Jaccard similarity](https://en.wikipedia.org/wiki/Jaccard_index) of the set of words that they conain. This metric computes the amount of overlap between two sets compared to their union. Two books which contain exactly the same words (but not necessarily in the same order or with the same frequency) will have a Jaccard similarity of 1 and two books which have no words in common will have a Jaccard similarity of 0.\n",
    "\n",
    "**Question:** What might be some of the downsides to using Jaccard similarity to compute the similarity of two books?\n",
    "\n",
    "In order to use this, we'll need to tokenize each book and store the results in a collection of some kind. Since we are interested in which words appear but not necessarily in what order or how frequently, we can make use of a [set](https://docs.python.org/3/library/stdtypes.html#set-types-set-frozenset). A set is similar to a list, but the order of the contents does not matter and a set cannot contain duplicates.\n",
    "\n",
    "For practice, let's grab one of our books."
   ]
  },
  {
   "cell_type": "markdown",
   "id": "e46afe2b",
   "metadata": {
    "pycharm": {
     "name": "#%% md\n"
    }
   },
   "source": [
    "Write some code which tokenizes Little Women and stores the tokens it contains in a set. It is up to you to decide exactly how you want to tokenize or what you want to count as a token.\n",
    "\n",
    "Once you are happy with your tokenization method, convert it into a function named `tokenize_book` which takes in a string and returns a set of tokens."
   ]
  },
  {
   "cell_type": "markdown",
   "id": "daa23531",
   "metadata": {
    "pycharm": {
     "name": "#%% md\n"
    }
   },
   "source": [
    "Now, write a function `jaccard` which takes in two sets of tokens and returns the Jaccard similarities between them. **Hint:** Python sets have `intersection` and `union` methods."
   ]
  },
  {
   "cell_type": "code",
   "execution_count": 89,
   "id": "83f40caf",
   "metadata": {
    "pycharm": {
     "name": "#%%\n"
    }
   },
   "outputs": [
    {
     "data": {
      "text/plain": "0.2249"
     },
     "execution_count": 89,
     "metadata": {},
     "output_type": "execute_result"
    }
   ],
   "source": [
    "jaccard_similarity(library['Little Women by Louisa May Alcott']['tokens'], library['Heart of Darkness by Joseph Conrad']['tokens'])"
   ]
  },
  {
   "cell_type": "markdown",
   "id": "1c5fb749",
   "metadata": {
    "pycharm": {
     "name": "#%% md\n"
    }
   },
   "source": [
    "Is Little Women more similar (using Jaccard Similarity) to Heart of Darkness or Anthem?"
   ]
  },
  {
   "cell_type": "markdown",
   "id": "ad86b209",
   "metadata": {
    "pycharm": {
     "name": "#%% md\n"
    }
   },
   "source": [
    "Let's create another dictionary called `book_tokens` that contains the title of each book as a key and the tokenized version of the book as values."
   ]
  },
  {
   "cell_type": "markdown",
   "id": "301afd4c",
   "metadata": {
    "pycharm": {
     "name": "#%% md\n"
    }
   },
   "source": [
    "Using this, let's create a distance matrix for our books using the jaccard function above. **Note:** You created a function for jaccard _similarity_. This can be converted to a **distance** by subtracting the similarity score from 1."
   ]
  },
  {
   "cell_type": "code",
   "execution_count": 98,
   "id": "b383e9e3",
   "metadata": {
    "pycharm": {
     "name": "#%%\n"
    }
   },
   "outputs": [
    {
     "data": {
      "text/plain": "array([[0., 0., 0., ..., 0., 0., 0.],\n       [0., 0., 0., ..., 0., 0., 0.],\n       [0., 0., 0., ..., 0., 0., 0.],\n       ...,\n       [0., 0., 0., ..., 0., 0., 0.],\n       [0., 0., 0., ..., 0., 0., 0.],\n       [0., 0., 0., ..., 0., 0., 0.]])"
     },
     "execution_count": 98,
     "metadata": {},
     "output_type": "execute_result"
    }
   ],
   "source": [
    "dists = np.zeros(shape = (len(library), len(library)))\n",
    "dists"
   ]
  },
  {
   "cell_type": "markdown",
   "id": "28caa134",
   "metadata": {
    "pycharm": {
     "name": "#%% md\n"
    }
   },
   "source": [
    "Now, fill in the distance matrix so that in the i,j spot you have one minus the jaccard similarity of the ith and jth books."
   ]
  },
  {
   "cell_type": "code",
   "execution_count": 110,
   "id": "f8eb34f8",
   "metadata": {
    "pycharm": {
     "name": "#%%\n"
    }
   },
   "outputs": [],
   "source": [
    "for idx, title in enumerate(list(library.keys())):\n",
    "    for i in range(0, 56):\n",
    "        # same book\n",
    "        if idx == i:\n",
    "            dists[idx][i] = 1 - jaccard_similarity(library[title]['tokens'], library[title]['tokens'])\n",
    "        # different book\n",
    "        else:\n",
    "            next_title = list(library.keys())[i]\n",
    "            dists[idx][i] = 1 - jaccard_similarity(library[title]['tokens'], library[next_title]['tokens'])\n"
   ]
  },
  {
   "cell_type": "code",
   "execution_count": 111,
   "outputs": [
    {
     "data": {
      "text/plain": "array([[0.    , 0.7929, 0.8757, ..., 0.7538, 0.7829, 0.7736],\n       [0.7929, 0.    , 0.8672, ..., 0.7581, 0.7402, 0.7368],\n       [0.8757, 0.8672, 0.    , ..., 0.8735, 0.8715, 0.8317],\n       ...,\n       [0.7538, 0.7581, 0.8735, ..., 0.    , 0.7446, 0.7404],\n       [0.7829, 0.7402, 0.8715, ..., 0.7446, 0.    , 0.7448],\n       [0.7736, 0.7368, 0.8317, ..., 0.7404, 0.7448, 0.    ]])"
     },
     "execution_count": 111,
     "metadata": {},
     "output_type": "execute_result"
    }
   ],
   "source": [
    "dists"
   ],
   "metadata": {
    "collapsed": false,
    "pycharm": {
     "name": "#%%\n"
    }
   }
  },
  {
   "cell_type": "markdown",
   "id": "75384655",
   "metadata": {
    "pycharm": {
     "name": "#%% md\n"
    }
   },
   "source": [
    "Once we have our distance matrix, we can compute a dendogram."
   ]
  },
  {
   "cell_type": "code",
   "execution_count": 108,
   "id": "59f722f8",
   "metadata": {
    "pycharm": {
     "name": "#%%\n"
    }
   },
   "outputs": [],
   "source": [
    "from scipy.cluster.hierarchy import linkage, dendrogram\n",
    "from scipy.spatial.distance import pdist, squareform\n",
    "import matplotlib.pyplot as plt"
   ]
  },
  {
   "cell_type": "code",
   "execution_count": 112,
   "id": "4e74e6ec",
   "metadata": {
    "pycharm": {
     "name": "#%%\n"
    }
   },
   "outputs": [
    {
     "data": {
      "text/plain": "<Figure size 864x576 with 1 Axes>",
      "image/png": "[encoded data removed]"
     },
     "metadata": {
      "needs_background": "light"
     },
     "output_type": "display_data"
    }
   ],
   "source": [
    "mergings = linkage(squareform(dists), method='complete')\n",
    "\n",
    "plt.figure(figsize = (12,8))\n",
    "dendrogram(mergings,\n",
    "           labels = list(library.keys()),\n",
    "           leaf_rotation = 90,\n",
    "           leaf_font_size = 6);\n",
    "\n",
    "plt.tight_layout()\n",
    "plt.savefig('images/dendogram_complete_jaccard.png', transparent=False, facecolor='white', dpi = 150);"
   ]
  },
  {
   "cell_type": "markdown",
   "id": "17cbd4fc",
   "metadata": {
    "pycharm": {
     "name": "#%% md\n"
    }
   },
   "source": [
    "**Bonus Material** Jaccard Similarity does not account for the frequency that each word is used, only whether or not it is used.\n",
    "\n",
    "We might be better off using the **cosine similarity** as a way to measure the similarity of two books.\n",
    "\n",
    "Create a dataframe named `books_df` where each row corresponds to a book and each column corresponds to a word. It should count the number of times the word appears in that book (including zero). Use the book title as the index of this dataframe."
   ]
  }
 ],
 "metadata": {
  "kernelspec": {
   "display_name": "Python 3 (ipykernel)",
   "language": "python",
   "name": "python3"
  },
  "language_info": {
   "codemirror_mode": {
    "name": "ipython",
    "version": 3
   },
   "file_extension": ".py",
   "mimetype": "text/x-python",
   "name": "python",
   "nbconvert_exporter": "python",
   "pygments_lexer": "ipython3",
   "version": "3.8.3"
  }
 },
 "nbformat": 4,
 "nbformat_minor": 5
}